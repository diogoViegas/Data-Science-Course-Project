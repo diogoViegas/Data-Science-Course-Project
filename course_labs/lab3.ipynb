{
 "cells": [
  {
   "cell_type": "code",
   "execution_count": 1,
   "metadata": {},
   "outputs": [],
   "source": [
    "import functions as func\n",
    "import pandas as pd\n",
    "import matplotlib.pyplot as plt\n",
    "from pandas.plotting import register_matplotlib_converters\n",
    "import numpy as np\n",
    "from imblearn.over_sampling import SMOTE, RandomOverSampler\n",
    "from sklearn.naive_bayes import GaussianNB, MultinomialNB, BernoulliNB\n",
    "import sklearn.metrics as metrics\n",
    "from sklearn.neighbors import KNeighborsClassifier\n",
    "import sklearn.metrics as metrics\n",
    "from sklearn.model_selection import train_test_split"
   ]
  },
  {
   "cell_type": "code",
   "execution_count": 2,
   "metadata": {},
   "outputs": [
    {
     "data": {
      "text/plain": [
       "(756, 754)"
      ]
     },
     "execution_count": 2,
     "metadata": {},
     "output_type": "execute_result"
    }
   ],
   "source": [
    "register_matplotlib_converters()\n",
    "data = pd.read_csv('data/pd_speech_features.csv', skiprows=[0])\n",
    "data = data.drop(['id'], axis=1)\n",
    "data.shape"
   ]
  },
  {
   "cell_type": "code",
   "execution_count": 3,
   "metadata": {},
   "outputs": [
    {
     "data": {
      "image/png": "[encoded data removed]",
      "text/plain": [
       "<Figure size 432x288 with 1 Axes>"
      ]
     },
     "metadata": {
      "needs_background": "light"
     },
     "output_type": "display_data"
    }
   ],
   "source": [
    "estimators = {'GaussianNB': GaussianNB(),  \n",
    "              'BernoulyNB': BernoulliNB()}\n",
    "tts = func.split_dataset(data)\n",
    "xvalues = []\n",
    "yvalues = []\n",
    "for clf in estimators:\n",
    "    xvalues.append(clf)\n",
    "    estimators[clf].fit(tts[0], tts[1])\n",
    "    vprdY = estimators[clf].predict(tts[2])\n",
    "    yvalues.append(metrics.accuracy_score(tts[3], vprdY))\n",
    "\n",
    "\n",
    "plt.figure()\n",
    "func.bar_chart(plt.gca(), xvalues, yvalues, 'Comparison of Naive Bayes Models', '', 'accuracy', percentage=True)\n",
    "plt.show()\n"
   ]
  },
  {
   "cell_type": "code",
   "execution_count": 4,
   "metadata": {},
   "outputs": [
    {
     "name": "stdout",
     "output_type": "stream",
     "text": [
      "tr:  1 \t acc:  0.7929515418502202 \t recall:  0.9940828402366864 \t precision 0.7850467289719626\n",
      "tr:  0.9 \t acc:  0.7797356828193832 \t recall:  0.9763313609467456 \t precision 0.7819905213270142\n",
      "tr:  0.8 \t acc:  0.8193832599118943 \t recall:  0.9822485207100592 \t precision 0.8137254901960784\n"
     ]
    },
    {
     "data": {
      "image/png": "[encoded data removed]",
      "text/plain": [
       "<Figure size 432x288 with 1 Axes>"
      ]
     },
     "metadata": {
      "needs_background": "light"
     },
     "output_type": "display_data"
    }
   ],
   "source": [
    "#thresholds = [1,0.9,0.8, 0.75, 0.7, 0.65, 0.6]\n",
    "thresholds = [1,0.9,0.8]\n",
    "\n",
    "\n",
    "xvalues = []\n",
    "yvalues = []\n",
    "for tr in thresholds:\n",
    "    clf = BernoulliNB()\n",
    "    corr_data = func.red_correlations(data, tr=tr)\n",
    "    tts = func.split_dataset(corr_data)\n",
    "    xvalues.append(tr)\n",
    "    clf.fit(tts[0], tts[1])\n",
    "    prdY = clf.predict(tts[2])\n",
    "    print(\"tr: \",tr,\"\\t acc: \",metrics.accuracy_score(tts[3], prdY), \n",
    "          \"\\t recall: \", metrics.recall_score(tts[3], prdY),\n",
    "         \"\\t precision\", metrics.precision_score(tts[3], prdY))\n",
    "    yvalues.append(metrics.accuracy_score(tts[3], prdY))\n",
    "\n",
    "\n",
    "plt.figure()\n",
    "func.bar_chart(plt.gca(), xvalues, yvalues, 'Coiso', '', 'accuracy', percentage=True)\n",
    "plt.show()"
   ]
  },
  {
   "cell_type": "markdown",
   "metadata": {},
   "source": [
    "## vamos com 0.75 de threshold"
   ]
  },
  {
   "cell_type": "code",
   "execution_count": 5,
   "metadata": {},
   "outputs": [
    {
     "data": {
      "text/plain": [
       "(756, 590)"
      ]
     },
     "execution_count": 5,
     "metadata": {},
     "output_type": "execute_result"
    }
   ],
   "source": [
    "corr_data = func.red_correlations(data, tr=0.75)\n",
    "corr_data.shape"
   ]
  },
  {
   "cell_type": "code",
   "execution_count": 7,
   "metadata": {},
   "outputs": [
    {
     "data": {
      "text/html": [
       "<div>\n",
       "<style scoped>\n",
       "    .dataframe tbody tr th:only-of-type {\n",
       "        vertical-align: middle;\n",
       "    }\n",
       "\n",
       "    .dataframe tbody tr th {\n",
       "        vertical-align: top;\n",
       "    }\n",
       "\n",
       "    .dataframe thead th {\n",
       "        text-align: right;\n",
       "    }\n",
       "</style>\n",
       "<table border=\"1\" class=\"dataframe\">\n",
       "  <thead>\n",
       "    <tr style=\"text-align: right;\">\n",
       "      <th></th>\n",
       "      <th>DFA</th>\n",
       "      <th>Ea</th>\n",
       "      <th>Ea2</th>\n",
       "      <th>Ed2_10_coefMean</th>\n",
       "      <th>Ed2_10_coefMedian</th>\n",
       "      <th>Ed2_10_coefStd</th>\n",
       "      <th>Ed2_4_coef</th>\n",
       "      <th>Ed2_5_coef</th>\n",
       "      <th>Ed2_6_coef</th>\n",
       "      <th>Ed2_8_coef</th>\n",
       "      <th>...</th>\n",
       "      <th>tqwt_stdValue_dec_3</th>\n",
       "      <th>tqwt_stdValue_dec_32Mean</th>\n",
       "      <th>tqwt_stdValue_dec_32Median</th>\n",
       "      <th>tqwt_stdValue_dec_32Std</th>\n",
       "      <th>tqwt_stdValue_dec_5Mean</th>\n",
       "      <th>tqwt_stdValue_dec_5Median</th>\n",
       "      <th>tqwt_stdValue_dec_5Std</th>\n",
       "      <th>tqwt_stdValue_dec_7</th>\n",
       "      <th>class</th>\n",
       "      <th>gender</th>\n",
       "    </tr>\n",
       "  </thead>\n",
       "  <tbody>\n",
       "    <tr>\n",
       "      <td>0</td>\n",
       "      <td>6.414660e-10</td>\n",
       "      <td>8.930797e-08</td>\n",
       "      <td>8.930833e-08</td>\n",
       "      <td>2.004430e-08</td>\n",
       "      <td>3.896254e-12</td>\n",
       "      <td>4.008340e-08</td>\n",
       "      <td>8.082404e-16</td>\n",
       "      <td>3.920636e-15</td>\n",
       "      <td>5.099506e-16</td>\n",
       "      <td>1.027046e-15</td>\n",
       "      <td>...</td>\n",
       "      <td>2.439636e-13</td>\n",
       "      <td>7.911869e-12</td>\n",
       "      <td>8.136257e-12</td>\n",
       "      <td>4.331517e-12</td>\n",
       "      <td>3.593407e-12</td>\n",
       "      <td>3.348437e-12</td>\n",
       "      <td>3.451148e-12</td>\n",
       "      <td>2.025691e-12</td>\n",
       "      <td>1</td>\n",
       "      <td>1</td>\n",
       "    </tr>\n",
       "    <tr>\n",
       "      <td>1</td>\n",
       "      <td>6.515166e-10</td>\n",
       "      <td>9.376884e-08</td>\n",
       "      <td>9.376903e-08</td>\n",
       "      <td>8.969449e-10</td>\n",
       "      <td>1.816728e-13</td>\n",
       "      <td>1.793647e-09</td>\n",
       "      <td>1.275259e-15</td>\n",
       "      <td>1.912888e-15</td>\n",
       "      <td>1.500305e-15</td>\n",
       "      <td>3.056870e-15</td>\n",
       "      <td>...</td>\n",
       "      <td>3.464953e-13</td>\n",
       "      <td>1.785993e-11</td>\n",
       "      <td>1.825120e-11</td>\n",
       "      <td>1.184738e-11</td>\n",
       "      <td>1.620235e-11</td>\n",
       "      <td>1.485181e-11</td>\n",
       "      <td>1.746660e-11</td>\n",
       "      <td>1.435041e-12</td>\n",
       "      <td>1</td>\n",
       "      <td>1</td>\n",
       "    </tr>\n",
       "    <tr>\n",
       "      <td>2</td>\n",
       "      <td>6.537314e-10</td>\n",
       "      <td>9.670001e-08</td>\n",
       "      <td>9.670011e-08</td>\n",
       "      <td>1.449521e-09</td>\n",
       "      <td>3.107941e-13</td>\n",
       "      <td>2.898627e-09</td>\n",
       "      <td>1.411822e-15</td>\n",
       "      <td>1.025021e-15</td>\n",
       "      <td>1.460172e-15</td>\n",
       "      <td>5.782666e-17</td>\n",
       "      <td>...</td>\n",
       "      <td>2.026834e-13</td>\n",
       "      <td>1.582277e-11</td>\n",
       "      <td>1.569153e-11</td>\n",
       "      <td>1.107572e-11</td>\n",
       "      <td>3.055635e-12</td>\n",
       "      <td>2.502899e-12</td>\n",
       "      <td>3.095180e-12</td>\n",
       "      <td>1.280406e-12</td>\n",
       "      <td>1</td>\n",
       "      <td>1</td>\n",
       "    </tr>\n",
       "    <tr>\n",
       "      <td>3</td>\n",
       "      <td>1.023309e-09</td>\n",
       "      <td>1.272615e-07</td>\n",
       "      <td>1.284060e-07</td>\n",
       "      <td>2.332905e-05</td>\n",
       "      <td>4.089793e-09</td>\n",
       "      <td>4.665265e-05</td>\n",
       "      <td>1.574677e-12</td>\n",
       "      <td>2.356107e-12</td>\n",
       "      <td>3.302583e-12</td>\n",
       "      <td>8.638759e-12</td>\n",
       "      <td>...</td>\n",
       "      <td>2.203520e-12</td>\n",
       "      <td>1.863947e-10</td>\n",
       "      <td>1.846456e-10</td>\n",
       "      <td>1.139026e-10</td>\n",
       "      <td>4.013656e-11</td>\n",
       "      <td>3.603415e-11</td>\n",
       "      <td>4.115896e-11</td>\n",
       "      <td>4.081830e-12</td>\n",
       "      <td>1</td>\n",
       "      <td>0</td>\n",
       "    </tr>\n",
       "    <tr>\n",
       "      <td>4</td>\n",
       "      <td>8.196760e-10</td>\n",
       "      <td>1.013967e-07</td>\n",
       "      <td>1.026923e-07</td>\n",
       "      <td>5.867551e-05</td>\n",
       "      <td>1.050444e-08</td>\n",
       "      <td>1.173370e-04</td>\n",
       "      <td>1.981228e-12</td>\n",
       "      <td>1.099210e-12</td>\n",
       "      <td>2.054173e-12</td>\n",
       "      <td>4.500400e-12</td>\n",
       "      <td>...</td>\n",
       "      <td>2.133899e-12</td>\n",
       "      <td>1.658297e-10</td>\n",
       "      <td>2.035166e-10</td>\n",
       "      <td>8.359980e-11</td>\n",
       "      <td>1.456169e-11</td>\n",
       "      <td>1.224660e-11</td>\n",
       "      <td>1.361822e-11</td>\n",
       "      <td>2.927767e-12</td>\n",
       "      <td>1</td>\n",
       "      <td>0</td>\n",
       "    </tr>\n",
       "  </tbody>\n",
       "</table>\n",
       "<p>5 rows × 590 columns</p>\n",
       "</div>"
      ],
      "text/plain": [
       "            DFA            Ea           Ea2  Ed2_10_coefMean  \\\n",
       "0  6.414660e-10  8.930797e-08  8.930833e-08     2.004430e-08   \n",
       "1  6.515166e-10  9.376884e-08  9.376903e-08     8.969449e-10   \n",
       "2  6.537314e-10  9.670001e-08  9.670011e-08     1.449521e-09   \n",
       "3  1.023309e-09  1.272615e-07  1.284060e-07     2.332905e-05   \n",
       "4  8.196760e-10  1.013967e-07  1.026923e-07     5.867551e-05   \n",
       "\n",
       "   Ed2_10_coefMedian  Ed2_10_coefStd    Ed2_4_coef    Ed2_5_coef  \\\n",
       "0       3.896254e-12    4.008340e-08  8.082404e-16  3.920636e-15   \n",
       "1       1.816728e-13    1.793647e-09  1.275259e-15  1.912888e-15   \n",
       "2       3.107941e-13    2.898627e-09  1.411822e-15  1.025021e-15   \n",
       "3       4.089793e-09    4.665265e-05  1.574677e-12  2.356107e-12   \n",
       "4       1.050444e-08    1.173370e-04  1.981228e-12  1.099210e-12   \n",
       "\n",
       "     Ed2_6_coef    Ed2_8_coef  ...  tqwt_stdValue_dec_3  \\\n",
       "0  5.099506e-16  1.027046e-15  ...         2.439636e-13   \n",
       "1  1.500305e-15  3.056870e-15  ...         3.464953e-13   \n",
       "2  1.460172e-15  5.782666e-17  ...         2.026834e-13   \n",
       "3  3.302583e-12  8.638759e-12  ...         2.203520e-12   \n",
       "4  2.054173e-12  4.500400e-12  ...         2.133899e-12   \n",
       "\n",
       "   tqwt_stdValue_dec_32Mean  tqwt_stdValue_dec_32Median  \\\n",
       "0              7.911869e-12                8.136257e-12   \n",
       "1              1.785993e-11                1.825120e-11   \n",
       "2              1.582277e-11                1.569153e-11   \n",
       "3              1.863947e-10                1.846456e-10   \n",
       "4              1.658297e-10                2.035166e-10   \n",
       "\n",
       "   tqwt_stdValue_dec_32Std  tqwt_stdValue_dec_5Mean  \\\n",
       "0             4.331517e-12             3.593407e-12   \n",
       "1             1.184738e-11             1.620235e-11   \n",
       "2             1.107572e-11             3.055635e-12   \n",
       "3             1.139026e-10             4.013656e-11   \n",
       "4             8.359980e-11             1.456169e-11   \n",
       "\n",
       "   tqwt_stdValue_dec_5Median  tqwt_stdValue_dec_5Std  tqwt_stdValue_dec_7  \\\n",
       "0               3.348437e-12            3.451148e-12         2.025691e-12   \n",
       "1               1.485181e-11            1.746660e-11         1.435041e-12   \n",
       "2               2.502899e-12            3.095180e-12         1.280406e-12   \n",
       "3               3.603415e-11            4.115896e-11         4.081830e-12   \n",
       "4               1.224660e-11            1.361822e-11         2.927767e-12   \n",
       "\n",
       "   class  gender  \n",
       "0      1       1  \n",
       "1      1       1  \n",
       "2      1       1  \n",
       "3      1       0  \n",
       "4      1       0  \n",
       "\n",
       "[5 rows x 590 columns]"
      ]
     },
     "execution_count": 7,
     "metadata": {},
     "output_type": "execute_result"
    }
   ],
   "source": [
    "data_norm = func.normalize(corr_data, ['class','gender'])\n",
    "data_norm.head()"
   ]
  },
  {
   "cell_type": "code",
   "execution_count": null,
   "metadata": {},
   "outputs": [],
   "source": [
    "columns = ['class']\n",
    "rows, cols = func.choose_grid(len(columns))\n",
    "cols=2\n",
    "plt.figure()\n",
    "fig, axs = plt.subplots(rows, cols, figsize=(cols*4, rows*4), squeeze=False)\n",
    "i, j = 0, 0\n",
    "for n in range(len(columns)):\n",
    "    counts = data_norm[columns[n]].dropna().value_counts(normalize=True)\n",
    "    func.bar_chart(axs[i, j], counts.index, counts.values, 'Histogram for %s'%columns[n], columns[n], 'probability')\n",
    "    i, j = (i + 1, 0) if (n+1) % cols == 0 else (i, j + 1)\n",
    "fig.tight_layout()\n",
    "plt.show()"
   ]
  },
  {
   "cell_type": "markdown",
   "metadata": {},
   "source": [
    "## Unbalanced dataset\n",
    "## Undersample está fora de questão"
   ]
  },
  {
   "cell_type": "code",
   "execution_count": null,
   "metadata": {},
   "outputs": [],
   "source": [
    "data_smote =func.smote_split(data_norm, 'class')\n",
    "print(data_smote[0].shape, data_smote[1].shape, data_smote[2].shape, data_smote[3].shape)"
   ]
  },
  {
   "cell_type": "code",
   "execution_count": null,
   "metadata": {},
   "outputs": [],
   "source": [
    "target_count = corr_data['class'].value_counts()\n",
    "min_class = target_count.idxmin()\n",
    "ind_min_class = target_count.index.get_loc(min_class)\n",
    "\n",
    "values = {'Original': [target_count.values[ind_min_class], target_count.values[1-ind_min_class]]}\n",
    "\n",
    "df_class_min = corr_data[corr_data['class'] == min_class]\n",
    "df_class_max = corr_data[corr_data['class'] != min_class] \n",
    "\n",
    "data_over = df_class_min.sample(len(df_class_max), replace=True)\n",
    "\n",
    "data_over = df_class_max.append(data_over)\n",
    "data_over.shape"
   ]
  },
  {
   "cell_type": "code",
   "execution_count": null,
   "metadata": {},
   "outputs": [],
   "source": [
    "##MAAAAAAAAAALLLLLLLLLLLLLLLLLLLLLLLLLLLLLLL\n",
    "\n",
    "def over_split(unba,  to_clf='class'):\n",
    "    columns = unba.columns\n",
    "    data = unba.copy()\n",
    "    \n",
    "    y1: np.ndarray = data['class'].values \n",
    "    X1: np.ndarray = data.drop('class', axis=1).values\n",
    "    labels1 = pd.unique(y1)\n",
    "    trnX1, tstX1, trnY1, tstY1 = train_test_split(X1, y1, train_size=0.7, stratify=y1)\n",
    "    trnY1 = trnY1.reshape((-1, 1))\n",
    "    tstY1 = tstY1.reshape((-1, 1))\n",
    "    train = np.append(trnX1, trnY1, axis=1)\n",
    "    \n",
    "    data = pd.DataFrame(train,columns=columns)\n",
    "    print(data.shape)\n",
    "    ###########################################\n",
    "\n",
    "    ###################################\n",
    "    target_count = data[to_clf].value_counts()\n",
    "    min_class = target_count.idxmin()\n",
    "    ind_min_class = target_count.index.get_loc(min_class)\n",
    "\n",
    "    values = {'Original': [target_count.values[ind_min_class], target_count.values[1-ind_min_class]]}\n",
    "\n",
    "    df_class_min = data[data[to_clf] == min_class]\n",
    "    df_class_max = data[data[to_clf] != min_class] \n",
    "    \n",
    "    df_over = df_class_min.sample(len(df_class_max), replace=True)\n",
    "    df_over = df_class_max.append(df_over)\n",
    "    data = df_over\n",
    "    \n",
    "    y1: np.ndarray = data['class'].values \n",
    "    X1: np.ndarray = data.drop('class', axis=1).values\n",
    "    y1 = y1.reshape((-1, 1))\n",
    "\n",
    "    \n",
    "    return (X1, y1, tstX1, tstY1, labels1)\n",
    "\n",
    "data_over = over_split(corr_data, 'class')\n",
    "print(data_over[0].shape, data_over[1].shape, data_over[2].shape, data_over[3].shape)"
   ]
  },
  {
   "cell_type": "code",
   "execution_count": null,
   "metadata": {},
   "outputs": [],
   "source": [
    "clf = BernoulliNB()\n",
    "#d = func.split_dataset(data_smote)\n",
    "# (trnX, trnY, tstX, tstY, labels)\n",
    "d=data_smote\n",
    "\n",
    "xvalues = [\"dataset1\"]\n",
    "yvalues = []\n",
    "cnf_mtx = []\n",
    "clf.fit(d[0], d[1])\n",
    "prdY = clf.predict(d[2])\n",
    "yvalues.append(metrics.accuracy_score(d[3], prdY))\n",
    "cnf_mtx.append(metrics.confusion_matrix(d[3], prdY, d[4]))\n",
    "\n",
    "plt.figure()\n",
    "func.plot_confusion_matrix(plt.gca(), cnf_mtx[0], d[4])\n",
    "plt.show()\n",
    "\n",
    "plt.figure()\n",
    "func.bar_chart(plt.gca(), xvalues, yvalues, 'Comparison of Datasets', '', 'accuracy', percentage=True)\n",
    "plt.show()"
   ]
  },
  {
   "cell_type": "markdown",
   "metadata": {},
   "source": [
    "### Canto superior esquerdo representa falsos negativos, ou seja, tem a doença mas o classificafor diz que não. Visto que este é o cenário mais grave vamos dar mais importância a este valor e optar pelo Oversampling."
   ]
  },
  {
   "cell_type": "code",
   "execution_count": null,
   "metadata": {},
   "outputs": [],
   "source": [
    "clf = BernoulliNB()\n",
    "\n",
    "func.compare_datasets(clf, data_smote, data_smote)"
   ]
  },
  {
   "cell_type": "markdown",
   "metadata": {},
   "source": [
    "### Normalização melhora"
   ]
  },
  {
   "cell_type": "code",
   "execution_count": null,
   "metadata": {},
   "outputs": [],
   "source": [
    "nvalues = [1, 3, 5, 7, 9, 11, 13, 15, 17, 19]\n",
    "dist = ['manhattan', 'euclidean', 'chebyshev']\n",
    "values = {}\n",
    "tts = func.split_dataset(data_norm)\n",
    "\n",
    "for d in dist:\n",
    "    yvalues = []\n",
    "    for n in nvalues:\n",
    "        knn = KNeighborsClassifier(n_neighbors=n, metric=d)\n",
    "        knn.fit(tts[0], tts[1])\n",
    "        prdY = knn.predict(tts[2])\n",
    "        yvalues.append(metrics.accuracy_score(tts[3], prdY))\n",
    "    values[d] = yvalues\n",
    "\n",
    "plt.figure()\n",
    "func.multiple_line_chart(plt.gca(), nvalues, values, 'KNN variants', 'n', 'accuracy', percentage=True)\n",
    "plt.show()"
   ]
  },
  {
   "cell_type": "markdown",
   "metadata": {},
   "source": [
    "## Testar com k-fold"
   ]
  },
  {
   "cell_type": "code",
   "execution_count": null,
   "metadata": {},
   "outputs": [],
   "source": [
    "from sklearn.model_selection import StratifiedKFold\n",
    "\n",
    "skf = StratifiedKFold(n_splits=13)\n",
    "yvalues=[]\n",
    "X = data_norm[data_norm.columns.difference(['class'])].values\n",
    "y = data_norm['class'].values\n",
    "\n",
    "for train_index, test_index in skf.split(X, y):\n",
    "    X_train, X_test = X[train_index], X[test_index]\n",
    "    y_train, y_test = y[train_index], y[test_index]\n",
    "    clf.fit(X_train, y_train)\n",
    "    prdY = clf.predict(X_test)\n",
    "    yvalues.append(metrics.accuracy_score(y_test, prdY))\n",
    "\n",
    "print(yvalues)\n"
   ]
  },
  {
   "cell_type": "code",
   "execution_count": null,
   "metadata": {},
   "outputs": [],
   "source": [
    "tuplo=(2,4,23,76,3)\n",
    "\n",
    "def coiso(tuplo):\n",
    "    maior = 0\n",
    "    for i in range(len(tuplo)): \n",
    "        if tuplo[i] > tuplo[maior]:\n",
    "            maior = i\n",
    "    return maior\n",
    "\n",
    "coiso(tuplo)     "
   ]
  }
 ],
 "metadata": {
  "kernelspec": {
   "display_name": "Python 3",
   "language": "python",
   "name": "python3"
  },
  "language_info": {
   "codemirror_mode": {
    "name": "ipython",
    "version": 3
   },
   "file_extension": ".py",
   "mimetype": "text/x-python",
   "name": "python",
   "nbconvert_exporter": "python",
   "pygments_lexer": "ipython3",
   "version": "3.7.4"
  }
 },
 "nbformat": 4,
 "nbformat_minor": 2
}
